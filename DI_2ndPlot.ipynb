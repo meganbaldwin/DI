{
 "cells": [
  {
   "cell_type": "code",
   "execution_count": 1,
   "metadata": {},
   "outputs": [
    {
     "name": "stdout",
     "output_type": "stream",
     "text": [
      "(8635, 26)\n"
     ]
    },
    {
     "data": {
      "text/plain": [
       "['Total_Record_length',\n",
       " 'Weather_Station_USAF ',\n",
       " 'Year',\n",
       " 'Month',\n",
       " 'Day',\n",
       " 'Date',\n",
       " 'time.H',\n",
       " 'Obs Type',\n",
       " 'Latitude',\n",
       " 'Longitude',\n",
       " 'SYNOP Type',\n",
       " 'Elevation(m)',\n",
       " 'Call Letter Identifier',\n",
       " 'Wind (Angular Degrees)',\n",
       " 'Wind (QC)',\n",
       " 'Wind TC',\n",
       " 'Wind Speed (m/s)',\n",
       " 'Wind Speed (QC)',\n",
       " 'Air Temp (Cel)',\n",
       " 'Air Temp (QC)',\n",
       " 'Dew Point (Cel)',\n",
       " 'Dew Point (QC)',\n",
       " 'Precip Time (H)',\n",
       " 'Precip Depth (mm)',\n",
       " 'Precip (CC)',\n",
       " 'Precip (QC)']"
      ]
     },
     "execution_count": 1,
     "metadata": {},
     "output_type": "execute_result"
    }
   ],
   "source": [
    "import numpy as np\n",
    "import pandas as pd\n",
    "\n",
    "WD= pd.read_csv(\"012330-99999-2017.csv\")\n",
    "\n",
    "print(WD.shape)\n",
    "list(WD)"
   ]
  },
  {
   "cell_type": "code",
   "execution_count": 2,
   "metadata": {},
   "outputs": [
    {
     "name": "stdout",
     "output_type": "stream",
     "text": [
      "(8635,)\n"
     ]
    }
   ],
   "source": [
    "colsToDrop = ['Year','Month','Day','Weather_Station_USAF ', 'SYNOP Type','Obs Type',\n",
    "              'Call Letter Identifier','Weather_Station_USAF ', 'Latitude','Longitude', 'Elevation(m)']\n",
    "x_train= WD.drop(colsToDrop, axis=1)\n",
    "\n",
    "y_train = WD['Wind Speed (m/s)']\n",
    "\n",
    "list(x_train)\n",
    "print(y_train.shape)"
   ]
  },
  {
   "cell_type": "code",
   "execution_count": 3,
   "metadata": {},
   "outputs": [
    {
     "data": {
      "text/plain": [
       "['Total_Record_length',\n",
       " 'Date',\n",
       " 'time.H',\n",
       " 'Wind (Angular Degrees)',\n",
       " 'Wind (QC)',\n",
       " 'Wind TC',\n",
       " 'Wind Speed (m/s)',\n",
       " 'Wind Speed (QC)',\n",
       " 'Air Temp (Cel)',\n",
       " 'Air Temp (QC)',\n",
       " 'Dew Point (Cel)',\n",
       " 'Dew Point (QC)',\n",
       " 'Precip Time (H)',\n",
       " 'Precip Depth (mm)',\n",
       " 'Precip (CC)',\n",
       " 'Precip (QC)',\n",
       " 'Total_Record_length',\n",
       " 'Date',\n",
       " 'time.H',\n",
       " 'Wind (Angular Degrees)',\n",
       " 'Wind (QC)',\n",
       " 'Wind TC',\n",
       " 'Wind Speed (m/s)',\n",
       " 'Wind Speed (QC)',\n",
       " 'Air Temp (Cel)',\n",
       " 'Air Temp (QC)',\n",
       " 'Dew Point (Cel)',\n",
       " 'Dew Point (QC)',\n",
       " 'Precip Time (H)',\n",
       " 'Precip Depth (mm)',\n",
       " 'Precip (CC)',\n",
       " 'Precip (QC)',\n",
       " 'Total_Record_length',\n",
       " 'Date',\n",
       " 'time.H',\n",
       " 'Wind (Angular Degrees)',\n",
       " 'Wind (QC)',\n",
       " 'Wind TC',\n",
       " 'Wind Speed (m/s)',\n",
       " 'Wind Speed (QC)',\n",
       " 'Air Temp (Cel)',\n",
       " 'Air Temp (QC)',\n",
       " 'Dew Point (Cel)',\n",
       " 'Dew Point (QC)',\n",
       " 'Precip Time (H)',\n",
       " 'Precip Depth (mm)',\n",
       " 'Precip (CC)',\n",
       " 'Precip (QC)',\n",
       " 'Total_Record_length',\n",
       " 'Date',\n",
       " 'time.H',\n",
       " 'Wind (Angular Degrees)',\n",
       " 'Wind (QC)',\n",
       " 'Wind TC',\n",
       " 'Wind Speed (m/s)',\n",
       " 'Wind Speed (QC)',\n",
       " 'Air Temp (Cel)',\n",
       " 'Air Temp (QC)',\n",
       " 'Dew Point (Cel)',\n",
       " 'Dew Point (QC)',\n",
       " 'Precip Time (H)',\n",
       " 'Precip Depth (mm)',\n",
       " 'Precip (CC)',\n",
       " 'Precip (QC)',\n",
       " 'Total_Record_length',\n",
       " 'Date',\n",
       " 'time.H',\n",
       " 'Wind (Angular Degrees)',\n",
       " 'Wind (QC)',\n",
       " 'Wind TC',\n",
       " 'Wind Speed (m/s)',\n",
       " 'Wind Speed (QC)',\n",
       " 'Air Temp (Cel)',\n",
       " 'Air Temp (QC)',\n",
       " 'Dew Point (Cel)',\n",
       " 'Dew Point (QC)',\n",
       " 'Precip Time (H)',\n",
       " 'Precip Depth (mm)',\n",
       " 'Precip (CC)',\n",
       " 'Precip (QC)',\n",
       " 'Total_Record_length',\n",
       " 'Date',\n",
       " 'time.H',\n",
       " 'Wind (Angular Degrees)',\n",
       " 'Wind (QC)',\n",
       " 'Wind TC',\n",
       " 'Wind Speed (m/s)',\n",
       " 'Wind Speed (QC)',\n",
       " 'Air Temp (Cel)',\n",
       " 'Air Temp (QC)',\n",
       " 'Dew Point (Cel)',\n",
       " 'Dew Point (QC)',\n",
       " 'Precip Time (H)',\n",
       " 'Precip Depth (mm)',\n",
       " 'Precip (CC)',\n",
       " 'Precip (QC)',\n",
       " 'Total_Record_length',\n",
       " 'Date',\n",
       " 'time.H',\n",
       " 'Wind (Angular Degrees)',\n",
       " 'Wind (QC)',\n",
       " 'Wind TC',\n",
       " 'Wind Speed (m/s)',\n",
       " 'Wind Speed (QC)',\n",
       " 'Air Temp (Cel)',\n",
       " 'Air Temp (QC)',\n",
       " 'Dew Point (Cel)',\n",
       " 'Dew Point (QC)',\n",
       " 'Precip Time (H)',\n",
       " 'Precip Depth (mm)',\n",
       " 'Precip (CC)',\n",
       " 'Precip (QC)']"
      ]
     },
     "execution_count": 3,
     "metadata": {},
     "output_type": "execute_result"
    }
   ],
   "source": [
    "x_train_lag = pd.concat([x_train.shift(24), x_train.shift(48), x_train.shift(72), x_train.shift(94),  x_train.shift(116),  x_train.shift(140),  x_train.shift(164)], axis=1)\n",
    "list(x_train_lag)"
   ]
  },
  {
   "cell_type": "code",
   "execution_count": 4,
   "metadata": {},
   "outputs": [
    {
     "name": "stdout",
     "output_type": "stream",
     "text": [
      "(8635, 113)\n"
     ]
    }
   ],
   "source": [
    "x_train_lag.columns = [\"Total_Record_length_lag_1\",\"Date_lag_1\",\"time.H_lag_1\",\"Wind (Angular Degrees)_lag_1\",\n",
    "                       \"Wind (QC)_lag_1\",\"Wind TC_lag_1\",\"Wind Speed (m/s)_lag_1\",\"Wind Speed (QC)_lag_1\",\"Air Temp (Cel)_lag_1\",\n",
    "                       \"Air Temp (QC)_lag_1\",\"Dew Point (Cel)_lag_1\",\"Dew Point (QC)_lag_1\",\"Precip Time (H)_lag_1\",\n",
    "                       \"Precip Depth (mm)_lag_1\",\"Precip (CC)_lag_1\",\"Precip (QC)_lag_1\",\"Total_Record_length_lag_2\",\n",
    "                       \"Date_lag_2\",\"time.H_lag_2\",\"Wind (Angular Degrees)_lag_2\",\"Wind (QC)_lag_2\",\"Wind TC_lag_2\",\n",
    "                       \"Wind Speed (m/s)_lag_2\",\"Wind Speed (QC)_lag_2\",\"Air Temp (Cel)_lag_2\",\"Air Temp (QC)_lag_2\",\"Dew Point (Cel)_lag_2\",\n",
    "                       \"Dew Point (QC)_lag_2\",\"Precip Time (H)_lag_2\",\"Precip Depth (mm)_lag_2\",\"Precip (CC)_lag_2\",\n",
    "                       \"Precip (QC)_lag_2\",\"Total_Record_length_lag_3\",\"Date_lag_3\",\"time.H_lag_3\",\n",
    "                       \"Wind (Angular Degrees)_lag_3\",\"Wind (QC)_lag_3\",\"Wind TC_lag_3\",\"Wind Speed (m/s)_lag_3\",\n",
    "                       \"Wind Speed (QC)_lag_3\",\"Air Temp (Cel)_lag_3\",\"Air Temp (QC)_lag_3\",\"Dew Point (Cel)_lag_3\",\"Dew Point (QC)_lag_3\",\n",
    "                       \"Precip Time (H)_lag_3\",\"Precip Depth (mm)_lag_3\",\"Precip (CC)_lag_3\",\"Precip (QC)_lag_3\",\n",
    "                       \"Total_Record_length_lag_4\",\"Date_lag_4\",\"time.H_lag_4\",\"Wind (Angular Degrees)_lag_4\",\n",
    "                       \"Wind (QC)_lag_4\",\"Wind TC_lag_4\",\"Wind Speed (m/s)_lag_4\",\"Wind Speed (QC)_lag_4\",\"Air Temp (Cel)_lag_4\",\"Air Temp (QC)_lag_4\",\n",
    "                       \"Dew Point (Cel)_lag_4\",\"Dew Point (QC)_lag_4\",\"Precip Time (H)_lag_4\",\"Precip Depth (mm)_lag_4\",\n",
    "                       \"Precip (CC)_lag_4\",\"Precip (QC)_lag_4\",\"Total_Record_length_lag_5\",\"Date_lag_5\",\"time.H_lag_5\",\n",
    "                       \"Wind (Angular Degrees)_lag_5\",\"Wind (QC)_lag_5\",\"Wind TC_lag_5\",\"Wind Speed (m/s)_lag_5\",\n",
    "                       \"Wind Speed (QC)_lag_5\",\"Air Temp (Cel)_lag_5\",\"Air Temp (QC)_lag_5\",\"Dew Point (Cel)_lag_5\",\"Dew Point (QC)_lag_5\",\n",
    "                       \"Precip Time (H)_lag_5\",\"Precip Depth (mm)_lag_5\",\"Precip (CC)_lag_5\",\"Precip (QC)_lag_5\",\n",
    "                       \"Total_Record_length_lag_6\",\"Date_lag_6\",\"time.H_lag_6\",\"Wind (Angular Degrees)_lag_6\",\n",
    "                       \"Wind (QC)_lag_6\",\"Wind TC_lag_6\",\"Wind Speed (m/s)_lag_6\",\"Wind Speed (QC)_lag_6\",\"Air Temp (Cel)_lag_6\",\n",
    "                       \"Air Temp (QC)_lag_6\",\"Dew Point (Cel)_lag_6\",\"Dew Point (QC)_lag_6\",\"Precip Time (H)_lag_6\",\n",
    "                       \"Precip Depth (mm)_lag_6\",\"Precip (CC)_lag_6\",\"Precip (QC)_lag_6\",\"Total_Record_length_lag_7\",\n",
    "                       \"Date_lag_7\",\"time.H_lag_7\",\"Wind (Angular Degrees)_lag_7\",\"Wind (QC)_lag_7\",\"Wind TC_lag_7\",\n",
    "                       \"Wind Speed (m/s)_lag_7\",\"Wind Speed (QC)_lag_7\",\"Air Temp (Cel)_lag_7\",\"Air Temp (QC)_lag_7\",\"Dew Point (Cel)_lag_7\",\n",
    "                       \"Dew Point (QC)_lag_7\",\"Precip Time (H)_lag_7\",\"Precip Depth (mm)_lag_7\",\"Precip (CC)_lag_7\",\n",
    "                       \"Precip (QC)_lag_7\"]\n",
    "\n",
    "train_x_lag = pd.concat([x_train_lag, y_train], axis = 1)\n",
    "print(train_x_lag.shape)"
   ]
  },
  {
   "cell_type": "code",
   "execution_count": 5,
   "metadata": {},
   "outputs": [
    {
     "name": "stdout",
     "output_type": "stream",
     "text": [
      "Checking whether there is an H2O instance running at http://localhost:54321. connected.\n"
     ]
    },
    {
     "ename": "H2OConnectionError",
     "evalue": "Version mismatch. H2O is version 3.16.0.1, but the h2o-python package is version UNKNOWN. Install the matching h2o-Python version from - http://h2o-release.s3.amazonaws.com/h2o/rel-wheeler/1/index.html.",
     "output_type": "error",
     "traceback": [
      "\u001b[1;31m---------------------------------------------------------------------------\u001b[0m",
      "\u001b[1;31mH2OConnectionError\u001b[0m                        Traceback (most recent call last)",
      "\u001b[1;32m<ipython-input-5-78815a4dd3b8>\u001b[0m in \u001b[0;36m<module>\u001b[1;34m()\u001b[0m\n\u001b[0;32m      1\u001b[0m \u001b[1;32mimport\u001b[0m \u001b[0mh2o\u001b[0m\u001b[1;33m\u001b[0m\u001b[0m\n\u001b[1;32m----> 2\u001b[1;33m \u001b[0mh2o\u001b[0m\u001b[1;33m.\u001b[0m\u001b[0minit\u001b[0m\u001b[1;33m(\u001b[0m\u001b[1;33m)\u001b[0m\u001b[1;33m\u001b[0m\u001b[0m\n\u001b[0m",
      "\u001b[1;32mc:\\users\\megan\\appdata\\local\\programs\\python\\python35\\lib\\site-packages\\h2o\\h2o.py\u001b[0m in \u001b[0;36minit\u001b[1;34m(url, ip, port, https, insecure, username, password, cookies, proxy, start_h2o, nthreads, ice_root, enable_assertions, max_mem_size, min_mem_size, strict_version_check, ignore_config, extra_classpath, **kwargs)\u001b[0m\n\u001b[0;32m    264\u001b[0m                                      auth=auth, proxy=proxy,cookies=cookies, verbose=True)\n\u001b[0;32m    265\u001b[0m     \u001b[1;32mif\u001b[0m \u001b[0mcheck_version\u001b[0m\u001b[1;33m:\u001b[0m\u001b[1;33m\u001b[0m\u001b[0m\n\u001b[1;32m--> 266\u001b[1;33m         \u001b[0mversion_check\u001b[0m\u001b[1;33m(\u001b[0m\u001b[1;33m)\u001b[0m\u001b[1;33m\u001b[0m\u001b[0m\n\u001b[0m\u001b[0;32m    267\u001b[0m     \u001b[0mh2oconn\u001b[0m\u001b[1;33m.\u001b[0m\u001b[0mcluster\u001b[0m\u001b[1;33m.\u001b[0m\u001b[0mtimezone\u001b[0m \u001b[1;33m=\u001b[0m \u001b[1;34m\"UTC\"\u001b[0m\u001b[1;33m\u001b[0m\u001b[0m\n\u001b[0;32m    268\u001b[0m     \u001b[0mh2oconn\u001b[0m\u001b[1;33m.\u001b[0m\u001b[0mcluster\u001b[0m\u001b[1;33m.\u001b[0m\u001b[0mshow_status\u001b[0m\u001b[1;33m(\u001b[0m\u001b[1;33m)\u001b[0m\u001b[1;33m\u001b[0m\u001b[0m\n",
      "\u001b[1;32mc:\\users\\megan\\appdata\\local\\programs\\python\\python35\\lib\\site-packages\\h2o\\h2o.py\u001b[0m in \u001b[0;36mversion_check\u001b[1;34m()\u001b[0m\n\u001b[0;32m    138\u001b[0m                 \u001b[1;34m\"Install the matching h2o-Python version from - \"\u001b[0m\u001b[1;33m\u001b[0m\u001b[0m\n\u001b[0;32m    139\u001b[0m                 \u001b[1;34m\"http://h2o-release.s3.amazonaws.com/h2o/{2}/{3}/index.html.\"\u001b[0m\u001b[1;33m\u001b[0m\u001b[0m\n\u001b[1;32m--> 140\u001b[1;33m                 \"\".format(ver_h2o, ver_pkg, branch_name_h2o, build_number_h2o))\n\u001b[0m\u001b[0;32m    141\u001b[0m     \u001b[1;31m# Check age of the install\u001b[0m\u001b[1;33m\u001b[0m\u001b[1;33m\u001b[0m\u001b[0m\n\u001b[0;32m    142\u001b[0m     \u001b[1;32mif\u001b[0m \u001b[0mci\u001b[0m\u001b[1;33m.\u001b[0m\u001b[0mbuild_too_old\u001b[0m\u001b[1;33m:\u001b[0m\u001b[1;33m\u001b[0m\u001b[0m\n",
      "\u001b[1;31mH2OConnectionError\u001b[0m: Version mismatch. H2O is version 3.16.0.1, but the h2o-python package is version UNKNOWN. Install the matching h2o-Python version from - http://h2o-release.s3.amazonaws.com/h2o/rel-wheeler/1/index.html."
     ]
    }
   ],
   "source": [
    "import h2o\n",
    "h2o.init()"
   ]
  },
  {
   "cell_type": "code",
   "execution_count": 6,
   "metadata": {},
   "outputs": [
    {
     "name": "stdout",
     "output_type": "stream",
     "text": [
      "Parse progress: |█████████████████████████████████████████████████████████| 100%\n"
     ]
    }
   ],
   "source": [
    "train_x = h2o.H2OFrame(train_x_lag)"
   ]
  },
  {
   "cell_type": "code",
   "execution_count": 7,
   "metadata": {},
   "outputs": [],
   "source": [
    "from h2o.estimators.deeplearning import H2OAutoEncoderEstimator, H2ODeepLearningEstimator"
   ]
  },
  {
   "cell_type": "code",
   "execution_count": 9,
   "metadata": {},
   "outputs": [
    {
     "name": "stdout",
     "output_type": "stream",
     "text": [
      "deeplearning Model Build progress: |██████████████████████████████████████| 100%\n"
     ]
    }
   ],
   "source": [
    "y = 'Wind Speed (m/s)'\n",
    "x = list(train_x.columns)\n",
    "x.remove(y)\n",
    "dl_500 = H2ODeepLearningEstimator(epochs=500)\n",
    "dl_500.train(x, y, train_x)"
   ]
  },
  {
   "cell_type": "code",
   "execution_count": 10,
   "metadata": {},
   "outputs": [],
   "source": [
    "VI_500 = dl_500._model_json['output']['variable_importances'].as_data_frame()\n",
    "VI_500 = VI_500.iloc[0:27,]"
   ]
  },
  {
   "cell_type": "code",
   "execution_count": 12,
   "metadata": {},
   "outputs": [],
   "source": [
    "import pyflux as pf\n",
    "from datetime import datetime\n",
    "import matplotlib.pyplot as plt\n",
    "%matplotlib inline "
   ]
  },
  {
   "cell_type": "code",
   "execution_count": 13,
   "metadata": {},
   "outputs": [
    {
     "data": {
      "image/png": "[encoded data removed]",
      "text/plain": [
       "<matplotlib.figure.Figure at 0x13f2f8d0>"
      ]
     },
     "metadata": {},
     "output_type": "display_data"
    }
   ],
   "source": [
    "plt.figure(figsize=(15,10))\n",
    "x = VI_500['variable']\n",
    "relative_importance = VI_500['relative_importance']\n",
    "\n",
    "x_pos = [i for i, _ in enumerate(x)]\n",
    "\n",
    "plt.barh(x_pos, relative_importance, color='purple')\n",
    "plt.ylabel(\"Variable\")\n",
    "plt.title(\"Deep Learning Variable Importance Chart\")\n",
    "\n",
    "plt.yticks(x_pos, x)\n",
    "\n",
    "plt.show()\n",
    "\n"
   ]
  },
  {
   "cell_type": "code",
   "execution_count": 15,
   "metadata": {},
   "outputs": [],
   "source": [
    "h2o.cluster().shutdown()"
   ]
  },
  {
   "cell_type": "code",
   "execution_count": null,
   "metadata": {},
   "outputs": [],
   "source": []
  }
 ],
 "metadata": {
  "kernelspec": {
   "display_name": "Python 3",
   "language": "python",
   "name": "python3"
  },
  "language_info": {
   "codemirror_mode": {
    "name": "ipython",
    "version": 3
   },
   "file_extension": ".py",
   "mimetype": "text/x-python",
   "name": "python",
   "nbconvert_exporter": "python",
   "pygments_lexer": "ipython3",
   "version": "3.5.2"
  }
 },
 "nbformat": 4,
 "nbformat_minor": 2
}
