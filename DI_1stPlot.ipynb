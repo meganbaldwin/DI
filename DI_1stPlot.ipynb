{
 "cells": [
  {
   "cell_type": "code",
   "execution_count": null,
   "metadata": {},
   "outputs": [],
   "source": [
    "import numpy as np\n",
    "import pandas as pd\n",
    "\n",
    "WD= pd.read_csv(\"012330-99999-2017.csv\")\n",
    "\n",
    "print(WD.shape)\n",
    "list(WD)"
   ]
  },
  {
   "cell_type": "code",
   "execution_count": null,
   "metadata": {},
   "outputs": [],
   "source": [
    "colsToDrop = ['Year','Month','Day','Weather_Station_USAF ', 'SYNOP Type','Obs Type',\n",
    "              'Call Letter Identifier','Weather_Station_USAF ', 'Latitude','Longitude', 'Elevation(m)']\n",
    "x_train= WD.drop(colsToDrop, axis=1)\n",
    "\n",
    "y_train = WD['Air Temp (Cel)']\n",
    "\n",
    "list(x_train)\n",
    "print(y_train.shape)"
   ]
  },
  {
   "cell_type": "code",
   "execution_count": null,
   "metadata": {},
   "outputs": [],
   "source": [
    "x_train_lag = pd.concat([x_train.shift(24), x_train.shift(48), x_train.shift(72), x_train.shift(94),  x_train.shift(116),  x_train.shift(140),  x_train.shift(164)], axis=1)\n",
    "list(x_train_lag)"
   ]
  },
  {
   "cell_type": "code",
   "execution_count": null,
   "metadata": {},
   "outputs": [],
   "source": [
    "x_train_lag.columns = [\"Total_Record_length_lag_1\",\"Date_lag_1\",\"time.H_lag_1\",\"Wind (Angular Degrees)_lag_1\",\n",
    "                       \"Wind (QC)_lag_1\",\"Wind TC_lag_1\",\"Wind Speed (m/s)_lag_1\",\"Wind Speed (QC)_lag_1\",\"Air Temp (Cel)_lag_1\",\n",
    "                       \"Air Temp (QC)_lag_1\",\"Dew Point (Cel)_lag_1\",\"Dew Point (QC)_lag_1\",\"Precip Time (H)_lag_1\",\n",
    "                       \"Precip Depth (mm)_lag_1\",\"Precip (CC)_lag_1\",\"Precip (QC)_lag_1\",\"Total_Record_length_lag_2\",\n",
    "                       \"Date_lag_2\",\"time.H_lag_2\",\"Wind (Angular Degrees)_lag_2\",\"Wind (QC)_lag_2\",\"Wind TC_lag_2\",\n",
    "                       \"Wind Speed (m/s)_lag_2\",\"Wind Speed (QC)_lag_2\",\"Air Temp (Cel)_lag_2\",\"Air Temp (QC)_lag_2\",\"Dew Point (Cel)_lag_2\",\n",
    "                       \"Dew Point (QC)_lag_2\",\"Precip Time (H)_lag_2\",\"Precip Depth (mm)_lag_2\",\"Precip (CC)_lag_2\",\n",
    "                       \"Precip (QC)_lag_2\",\"Total_Record_length_lag_3\",\"Date_lag_3\",\"time.H_lag_3\",\n",
    "                       \"Wind (Angular Degrees)_lag_3\",\"Wind (QC)_lag_3\",\"Wind TC_lag_3\",\"Wind Speed (m/s)_lag_3\",\n",
    "                       \"Wind Speed (QC)_lag_3\",\"Air Temp (Cel)_lag_3\",\"Air Temp (QC)_lag_3\",\"Dew Point (Cel)_lag_3\",\"Dew Point (QC)_lag_3\",\n",
    "                       \"Precip Time (H)_lag_3\",\"Precip Depth (mm)_lag_3\",\"Precip (CC)_lag_3\",\"Precip (QC)_lag_3\",\n",
    "                       \"Total_Record_length_lag_4\",\"Date_lag_4\",\"time.H_lag_4\",\"Wind (Angular Degrees)_lag_4\",\n",
    "                       \"Wind (QC)_lag_4\",\"Wind TC_lag_4\",\"Wind Speed (m/s)_lag_4\",\"Wind Speed (QC)_lag_4\",\"Air Temp (Cel)_lag_4\",\"Air Temp (QC)_lag_4\",\n",
    "                       \"Dew Point (Cel)_lag_4\",\"Dew Point (QC)_lag_4\",\"Precip Time (H)_lag_4\",\"Precip Depth (mm)_lag_4\",\n",
    "                       \"Precip (CC)_lag_4\",\"Precip (QC)_lag_4\",\"Total_Record_length_lag_5\",\"Date_lag_5\",\"time.H_lag_5\",\n",
    "                       \"Wind (Angular Degrees)_lag_5\",\"Wind (QC)_lag_5\",\"Wind TC_lag_5\",\"Wind Speed (m/s)_lag_5\",\n",
    "                       \"Wind Speed (QC)_lag_5\",\"Air Temp (Cel)_lag_5\",\"Air Temp (QC)_lag_5\",\"Dew Point (Cel)_lag_5\",\"Dew Point (QC)_lag_5\",\n",
    "                       \"Precip Time (H)_lag_5\",\"Precip Depth (mm)_lag_5\",\"Precip (CC)_lag_5\",\"Precip (QC)_lag_5\",\n",
    "                       \"Total_Record_length_lag_6\",\"Date_lag_6\",\"time.H_lag_6\",\"Wind (Angular Degrees)_lag_6\",\n",
    "                       \"Wind (QC)_lag_6\",\"Wind TC_lag_6\",\"Wind Speed (m/s)_lag_6\",\"Wind Speed (QC)_lag_6\",\"Air Temp (Cel)_lag_6\",\n",
    "                       \"Air Temp (QC)_lag_6\",\"Dew Point (Cel)_lag_6\",\"Dew Point (QC)_lag_6\",\"Precip Time (H)_lag_6\",\n",
    "                       \"Precip Depth (mm)_lag_6\",\"Precip (CC)_lag_6\",\"Precip (QC)_lag_6\",\"Total_Record_length_lag_7\",\n",
    "                       \"Date_lag_7\",\"time.H_lag_7\",\"Wind (Angular Degrees)_lag_7\",\"Wind (QC)_lag_7\",\"Wind TC_lag_7\",\n",
    "                       \"Wind Speed (m/s)_lag_7\",\"Wind Speed (QC)_lag_7\",\"Air Temp (Cel)_lag_7\",\"Air Temp (QC)_lag_7\",\"Dew Point (Cel)_lag_7\",\n",
    "                       \"Dew Point (QC)_lag_7\",\"Precip Time (H)_lag_7\",\"Precip Depth (mm)_lag_7\",\"Precip (CC)_lag_7\",\n",
    "                       \"Precip (QC)_lag_7\"]\n",
    "\n",
    "train_x_lag = pd.concat([x_train_lag, y_train], axis = 1)\n",
    "print(train_x_lag.shape)"
   ]
  },
  {
   "cell_type": "code",
   "execution_count": null,
   "metadata": {},
   "outputs": [],
   "source": [
    "import h2o\n",
    "h2o.init()"
   ]
  },
  {
   "cell_type": "code",
   "execution_count": null,
   "metadata": {},
   "outputs": [],
   "source": [
    "train_x = h2o.H2OFrame(train_x_lag)"
   ]
  },
  {
   "cell_type": "code",
   "execution_count": null,
   "metadata": {},
   "outputs": [],
   "source": [
    "from h2o.estimators.deeplearning import H2OAutoEncoderEstimator, H2ODeepLearningEstimator"
   ]
  },
  {
   "cell_type": "code",
   "execution_count": null,
   "metadata": {},
   "outputs": [],
   "source": [
    "y = 'Air Temp (Cel)'\n",
    "x = list(train_x.columns)\n",
    "x.remove(y)\n",
    "dl_500 = H2ODeepLearningEstimator(epochs=500)\n",
    "dl_500.train(x, y, train_x)"
   ]
  },
  {
   "cell_type": "code",
   "execution_count": null,
   "metadata": {},
   "outputs": [],
   "source": [
    "VI_500 = dl_500._model_json['output']['variable_importances'].as_data_frame()\n",
    "VI_500 = VI_500.iloc[0:27,]"
   ]
  },
  {
   "cell_type": "code",
   "execution_count": null,
   "metadata": {},
   "outputs": [],
   "source": [
    "plt.figure(figsize=(15,10))\n",
    "x = VI_500['variable']\n",
    "relative_importance = VI_500['relative_importance']\n",
    "\n",
    "x_pos = [i for i, _ in enumerate(x)]\n",
    "\n",
    "plt.barh(x_pos, relative_importance, color='purple')\n",
    "plt.ylabel(\"Variable\")\n",
    "plt.title(\"Deep Learning Variable Importance Chart\")\n",
    "\n",
    "plt.yticks(x_pos, x)\n",
    "\n",
    "plt.show()\n",
    "\n"
   ]
  }
 ],
 "metadata": {
  "kernelspec": {
   "display_name": "Python 3",
   "language": "python",
   "name": "python3"
  },
  "language_info": {
   "codemirror_mode": {
    "name": "ipython",
    "version": 3
   },
   "file_extension": ".py",
   "mimetype": "text/x-python",
   "name": "python",
   "nbconvert_exporter": "python",
   "pygments_lexer": "ipython3",
   "version": "3.5.2"
  }
 },
 "nbformat": 4,
 "nbformat_minor": 2
}
